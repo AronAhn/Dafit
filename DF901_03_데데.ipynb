{
 "cells": [
  {
   "cell_type": "code",
   "execution_count": 1,
   "metadata": {},
   "outputs": [],
   "source": [
    "import re"
   ]
  },
  {
   "cell_type": "code",
   "execution_count": 2,
   "metadata": {},
   "outputs": [],
   "source": [
    "f = open(\"DF901_01_Data01.txt.txt\", 'r')\n",
    "sentence = f.readline()"
   ]
  },
  {
   "cell_type": "code",
   "execution_count": 3,
   "metadata": {},
   "outputs": [],
   "source": [
    "tokens = sentence.split()\n",
    "target_tokens = set([token.lower() for token in tokens if re.match('^[a-zA-Z\\-]+$', token)]) #중복 제거"
   ]
  },
  {
   "cell_type": "code",
   "execution_count": 4,
   "metadata": {},
   "outputs": [],
   "source": [
    "def sorter(target_tokens, level=0):\n",
    "    \n",
    "    if len(target_tokens)<=1:\n",
    "        return target_tokens\n",
    "    \n",
    "    res_dict = {}\n",
    "    for token in target_tokens:\n",
    "        res_dict[token[level]] = res_dict.get(token[level], []) + [token]\n",
    "\n",
    "    keys = sorted(res_dict.keys())\n",
    "    res = []\n",
    "    for key in keys:\n",
    "        res += sorter(res_dict[key], level+1)\n",
    "    return res"
   ]
  },
  {
   "cell_type": "code",
   "execution_count": 5,
   "metadata": {},
   "outputs": [
    {
     "data": {
      "text/plain": [
       "['a',\n",
       " 'book',\n",
       " 'class',\n",
       " 'flight',\n",
       " 'like',\n",
       " 'new',\n",
       " 'or',\n",
       " 'round-trip',\n",
       " 'to',\n",
       " 'which',\n",
       " 'would',\n",
       " 'you']"
      ]
     },
     "execution_count": 5,
     "metadata": {},
     "output_type": "execute_result"
    }
   ],
   "source": [
    "sorter(target_tokens)"
   ]
  }
 ],
 "metadata": {
  "kernelspec": {
   "display_name": "Python 3",
   "language": "python",
   "name": "python3"
  },
  "language_info": {
   "codemirror_mode": {
    "name": "ipython",
    "version": 3
   },
   "file_extension": ".py",
   "mimetype": "text/x-python",
   "name": "python",
   "nbconvert_exporter": "python",
   "pygments_lexer": "ipython3",
   "version": "3.7.1"
  }
 },
 "nbformat": 4,
 "nbformat_minor": 2
}
