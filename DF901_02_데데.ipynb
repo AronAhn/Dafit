{
 "cells": [
  {
   "cell_type": "code",
   "execution_count": 1,
   "metadata": {},
   "outputs": [],
   "source": [
    "import pandas as pd\n",
    "import string"
   ]
  },
  {
   "cell_type": "code",
   "execution_count": 2,
   "metadata": {},
   "outputs": [],
   "source": [
    "f = open(\"DF901_01_Data01.txt.txt\", 'r')\n",
    "sentence = f.readline()\n",
    "\n",
    "dfs = pd.read_excel('DF901_02_Data01.xlsx', sheet_name='Sheet1')"
   ]
  },
  {
   "cell_type": "code",
   "execution_count": 3,
   "metadata": {},
   "outputs": [],
   "source": [
    "alp2kor = {k:v[0] for k, v in dfs.to_dict().items()}\n",
    "\n",
    "def char_transformer(char):\n",
    "    if char in string.ascii_letters:\n",
    "        return alp2kor[char.upper()]\n",
    "    else:\n",
    "        return char"
   ]
  },
  {
   "cell_type": "code",
   "execution_count": 4,
   "metadata": {},
   "outputs": [
    {
     "data": {
      "text/plain": [
       "\"뉴욕행 비행기를 예약하고 싶어요. 아이'디 엘아이케이이 티오 비오오케이 에이 에프엘아이지에이치티 티오 엔이더블유 와이오알케이. 편도인가요? 왕복인가요? 오엔이-더블유에이와이, 오알 알오유엔디-티알아이피? 왕복입니다. 알오유엔디-티알아이피 피엘이에이에스이. 좌석 등급은 무엇으로 하시겠어요? 더블유에이치아이시에이치 시엘에이에스에스 더블유오유엘디 와이오유 엘아이케이이? 일반석으로 부탁해요. 이시오엔오엠와이, 피엘이에이에스이.\""
      ]
     },
     "execution_count": 4,
     "metadata": {},
     "output_type": "execute_result"
    }
   ],
   "source": [
    "\"\".join(map(char_transformer, sentence))"
   ]
  }
 ],
 "metadata": {
  "kernelspec": {
   "display_name": "Python 3",
   "language": "python",
   "name": "python3"
  },
  "language_info": {
   "codemirror_mode": {
    "name": "ipython",
    "version": 3
   },
   "file_extension": ".py",
   "mimetype": "text/x-python",
   "name": "python",
   "nbconvert_exporter": "python",
   "pygments_lexer": "ipython3",
   "version": "3.7.1"
  }
 },
 "nbformat": 4,
 "nbformat_minor": 2
}
